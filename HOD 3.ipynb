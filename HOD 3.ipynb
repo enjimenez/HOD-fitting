{
 "cells": [
  {
   "cell_type": "code",
   "execution_count": 6,
   "metadata": {
    "collapsed": true
   },
   "outputs": [],
   "source": [
    "import numpy as np\n",
    "import matplotlib.pyplot as plt\n",
    "import scipy as sc\n",
    "import glob\n",
    "from scipy.optimize import curve_fit"
   ]
  },
  {
   "cell_type": "code",
   "execution_count": 21,
   "metadata": {
    "collapsed": false
   },
   "outputs": [],
   "source": [
    "# FIX THE LOGSAT FUNCTION (...IN THE IF COND)\n",
    "# FIT THE FULL HOD\n",
    "\n",
    "def LOGSAT(log_Mh, log_Mcut, log_M1, alpha):    \n",
    "    if log_Mh[0] < log_Mcut:\n",
    "        arr = alpha * (np.log10(10.**log_Mh[1:] - 10.**log_Mcut) - log_M1)\n",
    "        return np.concatenate(([-1.5], arr))\n",
    "        \n",
    "    else:\n",
    "        return alpha * (np.log10(10.**log_Mh - 10.**log_Mcut) - log_M1)\n",
    "\n",
    "def LOGCEN(log_Mh, log_Mmin, sigma):\n",
    "    erf = sc.special.erf((log_Mh - log_Mmin)/sigma)\n",
    "    return np.log10(0.5 * (1 + erf))\n",
    "\n",
    "def Adjust (X_axis, Cen, Sat):\n",
    "\n",
    "    log_Mh = X_axis\n",
    "    mask_cen = Cen > -1\n",
    "    mask_sat = Sat > -1\n",
    "\n",
    "    x0_mcut = log_Mh[mask_sat][0] - 0.1\n",
    "    x0_cen = np.array([11.2, 0.5])\n",
    "    x0_sat = np.array([x0_mcut, 13.2, 1.3])\n",
    "\n",
    "    popt_cen, pcov_cen = curve_fit(LOGCEN, log_Mh[mask_cen], Cen[mask_cen], x0_cen)\n",
    "    popt_sat, pcov_sat = curve_fit(LOGSAT, log_Mh[mask_sat], Sat[mask_sat], x0_sat)\n",
    "\n",
    "    perr_cen = np.sqrt(np.diag(pcov_cen))\n",
    "    perr_sat = np.sqrt(np.diag(pcov_sat))\n",
    "    \n",
    "    par_cen = np.array([popt_cen, perr_cen]).T\n",
    "    par_sat = np.array([popt_sat, perr_sat]).T\n",
    "    \n",
    "    return par_cen, par_sat\n",
    "    "
   ]
  },
  {
   "cell_type": "code",
   "execution_count": 22,
   "metadata": {
    "collapsed": false
   },
   "outputs": [],
   "source": [
    "log_Mh,Cen,Sat, par_cen, par_sat = Adjust('plots/hod_d1_30b')"
   ]
  },
  {
   "cell_type": "code",
   "execution_count": 28,
   "metadata": {
    "collapsed": false
   },
   "outputs": [
    {
     "name": "stderr",
     "output_type": "stream",
     "text": [
      "/home/esteban/.local/lib/python2.7/site-packages/ipykernel/__main__.py:3: RuntimeWarning: invalid value encountered in log10\n",
      "  app.launch_new_instance()\n"
     ]
    },
    {
     "data": {
      "image/png": "[encoded data removed]",
      "text/plain": [
       "<matplotlib.figure.Figure at 0x7f955a50cc90>"
      ]
     },
     "metadata": {},
     "output_type": "display_data"
    }
   ],
   "source": [
    "f = plt.figure()\n",
    "plt.plot(log_Mh, Cen, 'r.', label = 'Cen / Data')\n",
    "plt.plot(log_Mh[log_Mh > -2], LOGCEN(log_Mh[log_Mh > -2], *par_cen[:,0]), 'r-', label = 'Cen / Fit')\n",
    "plt.plot(log_Mh, Sat, 'b.', label='Sat / Data')\n",
    "plt.plot(log_Mh[log_Mh > -2], LOGSAT(log_Mh[log_Mh > -2], *par_sat[:,0]), 'b-', label='Sat / Fit')\n",
    "plt.axhline(y=0, color = 'black', ls = '--', lw= .5)\n",
    "plt.ylim(-1,3)\n",
    "plt.xlim(10,15)\n",
    "plt.ylabel(r\"$<\\log(N)>$\",fontsize = 12)\n",
    "plt.xlabel(r\"$\\log(M_h/h^{-1}M_{\\odot})$\", fontsize = 12)\n",
    "plt.legend(frameon= False, loc = 'upper left', prop={'size':10})\n",
    "f.savefig('asdasd.pdf' )\n",
    "plt.show()\n"
   ]
  },
  {
   "cell_type": "code",
   "execution_count": 9,
   "metadata": {
    "collapsed": false
   },
   "outputs": [
    {
     "ename": "ValueError",
     "evalue": "invalid literal for int() with base 10: '/'",
     "output_type": "error",
     "traceback": [
      "\u001b[0;31m---------------------------------------------------------------------------\u001b[0m",
      "\u001b[0;31mValueError\u001b[0m                                Traceback (most recent call last)",
      "\u001b[0;32m<ipython-input-9-dcaf56f1eef5>\u001b[0m in \u001b[0;36m<module>\u001b[0;34m()\u001b[0m\n\u001b[1;32m      2\u001b[0m \u001b[0mll\u001b[0m \u001b[0;34m=\u001b[0m \u001b[0;34m[\u001b[0m\u001b[0;34m]\u001b[0m\u001b[0;34m\u001b[0m\u001b[0m\n\u001b[1;32m      3\u001b[0m \u001b[0;32mfor\u001b[0m \u001b[0mhod\u001b[0m \u001b[0;32min\u001b[0m \u001b[0mhods_arr\u001b[0m\u001b[0;34m:\u001b[0m\u001b[0;34m\u001b[0m\u001b[0m\n\u001b[0;32m----> 4\u001b[0;31m     \u001b[0midx\u001b[0m \u001b[0;34m=\u001b[0m \u001b[0mint\u001b[0m\u001b[0;34m(\u001b[0m\u001b[0mhod\u001b[0m\u001b[0;34m[\u001b[0m\u001b[0;36m5\u001b[0m\u001b[0;34m]\u001b[0m\u001b[0;34m)\u001b[0m\u001b[0;34m\u001b[0m\u001b[0m\n\u001b[0m\u001b[1;32m      5\u001b[0m     \u001b[0mll\u001b[0m\u001b[0;34m.\u001b[0m\u001b[0mappend\u001b[0m\u001b[0;34m(\u001b[0m\u001b[0midx\u001b[0m\u001b[0;34m-\u001b[0m\u001b[0;36m1\u001b[0m\u001b[0;34m)\u001b[0m\u001b[0;34m\u001b[0m\u001b[0m\n\u001b[1;32m      6\u001b[0m \u001b[0mll_arr\u001b[0m \u001b[0;34m=\u001b[0m \u001b[0mnp\u001b[0m\u001b[0;34m.\u001b[0m\u001b[0margsort\u001b[0m\u001b[0;34m(\u001b[0m\u001b[0mnp\u001b[0m\u001b[0;34m.\u001b[0m\u001b[0marray\u001b[0m\u001b[0;34m(\u001b[0m\u001b[0mll\u001b[0m\u001b[0;34m)\u001b[0m\u001b[0;34m)\u001b[0m\u001b[0;34m\u001b[0m\u001b[0m\n",
      "\u001b[0;31mValueError\u001b[0m: invalid literal for int() with base 10: '/'"
     ]
    }
   ],
   "source": [
    "hods_arr = np.array(glob.glob('plots/hod*'))\n",
    "ll = []\n",
    "for hod in hods_arr:\n",
    "    idx = int(hod[5])\n",
    "    ll.append(idx-1)\n",
    "ll_arr = np.argsort(np.array(ll))\n",
    "hods_arr = hods_arr[ll_arr]"
   ]
  },
  {
   "cell_type": "code",
   "execution_count": null,
   "metadata": {
    "collapsed": false
   },
   "outputs": [],
   "source": [
    "for hod in hods_arr:\n",
    "\n",
    "    bins, Full, Cen, Sat = np.loadtxt(hod, unpack = True)\n",
    "\n",
    "    log_Mh = bins\n",
    "    mask_cen = Cen > -1\n",
    "    mask_sat = Sat > -1\n",
    "\n",
    "    x0_mcut = log_Mh[mask_sat][0] - 0.1\n",
    "    x0_cen = np.array([11.2, 0.5])\n",
    "    x0_sat = np.array([x0_mcut, 13.2, 1.3])\n",
    "\n",
    "    popt_cen, pcov_cen = curve_fit(LOGCEN, log_Mh[mask_cen], Cen[mask_cen], x0_cen)\n",
    "    popt_sat, pcov_sat = curve_fit(LOGSAT, log_Mh[mask_sat], Sat[mask_sat], x0_sat)\n",
    "\n",
    "    perr_cen = np.sqrt(np.diag(pcov_cen))\n",
    "    perr_sat = np.sqrt(np.diag(pcov_sat))\n",
    "\n",
    "    f = plt.figure()\n",
    "    plt.plot(log_Mh, Cen, 'r.', label = 'Cen / Data')\n",
    "    plt.plot(log_Mh[log_Mh > -2], LOGCEN(log_Mh[log_Mh > -2], *popt_cen), 'r-', label = 'Cen / Fit')\n",
    "    plt.plot(log_Mh, Sat, 'b.', label='Sat / Data')\n",
    "    plt.plot(log_Mh[log_Mh > -2], LOGSAT(log_Mh[log_Mh > -2], *popt_sat), 'b-', label='Sat / Fit')\n",
    "    plt.axhline(y=0, color = 'black', ls = '--', lw= .5)\n",
    "    plt.ylim(-1,3)\n",
    "    plt.xlim(10,15)\n",
    "    plt.ylabel(r\"$<\\log(N)>$\",fontsize = 12)\n",
    "    plt.xlabel(r\"$\\log(M_h/h^{-1}M_{\\odot})$\", fontsize = 12)\n",
    "    plt.legend(frameon= False, loc = 'upper left', prop={'size':10})\n",
    "    f.savefig('%s.pdf' %hod)\n"
   ]
  },
  {
   "cell_type": "code",
   "execution_count": null,
   "metadata": {
    "collapsed": true
   },
   "outputs": [],
   "source": [
    "data = np.load('Data_bin/HOD_SN25_0p01_SFR_Age.npy')\n",
    "X = np.load('Data_bin/X_axis.npy')"
   ]
  },
  {
   "cell_type": "code",
   "execution_count": null,
   "metadata": {
    "collapsed": false
   },
   "outputs": [],
   "source": [
    "ALL = data[0][0]\n",
    "CEN = data[0][1]\n",
    "SAT = data[0][2]\n",
    "\n",
    "plt.plot(X, ALL, 'k.')\n",
    "plt.plot(X, CEN, 'r--')\n",
    "plt.plot(X, SAT, 'b--')\n",
    "plt.yscale('log')\n",
    "plt.ylim(1e-1, 1e2)\n",
    "plt.xlim(10,15)\n",
    "plt.show()"
   ]
  },
  {
   "cell_type": "code",
   "execution_count": null,
   "metadata": {
    "collapsed": true
   },
   "outputs": [],
   "source": []
  }
 ],
 "metadata": {
  "kernelspec": {
   "display_name": "Python 2",
   "language": "python",
   "name": "python2"
  },
  "language_info": {
   "codemirror_mode": {
    "name": "ipython",
    "version": 2
   },
   "file_extension": ".py",
   "mimetype": "text/x-python",
   "name": "python",
   "nbconvert_exporter": "python",
   "pygments_lexer": "ipython2",
   "version": "2.7.12"
  }
 },
 "nbformat": 4,
 "nbformat_minor": 1
}
